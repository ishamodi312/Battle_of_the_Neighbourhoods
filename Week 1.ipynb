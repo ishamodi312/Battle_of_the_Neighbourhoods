{
    "cells": [
        {
            "cell_type": "markdown",
            "metadata": {},
            "source": "# City Exploration using Python"
        },
        {
            "cell_type": "markdown",
            "metadata": {},
            "source": " "
        },
        {
            "cell_type": "markdown",
            "metadata": {},
            "source": " "
        },
        {
            "cell_type": "markdown",
            "metadata": {
                "collapsed": true
            },
            "source": "## Problem Statement:\n \n#### Find the cost effectiveness of rental neighbourhoods in Bangalore on the basis of rent and local amenities."
        },
        {
            "cell_type": "markdown",
            "metadata": {},
            "source": " "
        },
        {
            "cell_type": "markdown",
            "metadata": {},
            "source": "## Background Discussion:\n \n \nWhen looking for a place to live, a person's decision of whether or not to select a house is based on its rent, as well as on the availability of various services close to the place. If all the amenities are present in a short enough radius, the person may accept a slightly higher rent. On the other hand, if there are no services nearby, they will have a hard time choosing the house.\n \nThis project focuses on bringing objectivity in decision making process of rental search through developing a convenience and affordability matrix for the house seekers."
        },
        {
            "cell_type": "markdown",
            "metadata": {},
            "source": " "
        },
        {
            "cell_type": "markdown",
            "metadata": {},
            "source": "## Data:\n \n \nThe local amenities in a neighbourhood will be retrieved using foursquare\n \nRent will be obtained from makaan.com \nhttps://www.makaan.com/price-trends/property-rates-for-rent-in-bangalore\n \n \n### How the data will be used:\n \n \nRent Data will be converted into a dataframe, and location and amenities columns will be added.\n \nThe amenities will be divided into two categories: Food and recreation.\n \nThe density of venues from both categories will be taken and converted into a score using min-max normalization. Rent will undergo a similar transformation.\n \nThe normalized values can then be used to calculate a cost-effectiveness score."
        }
    ],
    "metadata": {
        "kernelspec": {
            "display_name": "Python 3.6",
            "language": "python",
            "name": "python3"
        },
        "language_info": {
            "codemirror_mode": {
                "name": "ipython",
                "version": 3
            },
            "file_extension": ".py",
            "mimetype": "text/x-python",
            "name": "python",
            "nbconvert_exporter": "python",
            "pygments_lexer": "ipython3",
            "version": "3.6.9"
        }
    },
    "nbformat": 4,
    "nbformat_minor": 1
}